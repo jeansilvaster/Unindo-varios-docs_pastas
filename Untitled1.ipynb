{
 "cells": [
  {
   "cell_type": "code",
   "execution_count": 13,
   "id": "500a7342",
   "metadata": {},
   "outputs": [],
   "source": [
    "import pandas as pd\n",
    "import os"
   ]
  },
  {
   "cell_type": "markdown",
   "id": "e68c0fb1",
   "metadata": {},
   "source": [
    "### Lendo arquivos"
   ]
  },
  {
   "cell_type": "code",
   "execution_count": 19,
   "id": "304e92e1",
   "metadata": {},
   "outputs": [],
   "source": [
    "path = r'C:\\PYTHON\\Estados'\n",
    "files = os.listdir(path)\n",
    "df = pd.DataFrame()"
   ]
  },
  {
   "cell_type": "code",
   "execution_count": 20,
   "id": "239a88e9",
   "metadata": {},
   "outputs": [
    {
     "name": "stdout",
     "output_type": "stream",
     "text": [
      "['Estados.xlsx', 'Estados_SE.xlsx']\n"
     ]
    }
   ],
   "source": [
    "print(files)\n"
   ]
  },
  {
   "cell_type": "code",
   "execution_count": 27,
   "id": "54767949",
   "metadata": {},
   "outputs": [
    {
     "name": "stdout",
     "output_type": "stream",
     "text": [
      "['C:\\\\PYTHON\\\\Estados\\\\Estados.xlsx', 'C:\\\\PYTHON\\\\Estados\\\\Estados_SE.xlsx']\n"
     ]
    }
   ],
   "source": [
    "files_xlsx = [path +'\\\\' + f for f in files if f[-4:]== 'xlsx']\n",
    "print(files_xlsx)"
   ]
  },
  {
   "cell_type": "code",
   "execution_count": 31,
   "id": "15c7d85a",
   "metadata": {},
   "outputs": [],
   "source": [
    "for f in files_xlsx:\n",
    "    data = pd.read_excel(f)\n",
    "    df = df.append(data)"
   ]
  },
  {
   "cell_type": "code",
   "execution_count": 32,
   "id": "029f5c72",
   "metadata": {},
   "outputs": [
    {
     "data": {
      "text/html": [
       "<div>\n",
       "<style scoped>\n",
       "    .dataframe tbody tr th:only-of-type {\n",
       "        vertical-align: middle;\n",
       "    }\n",
       "\n",
       "    .dataframe tbody tr th {\n",
       "        vertical-align: top;\n",
       "    }\n",
       "\n",
       "    .dataframe thead th {\n",
       "        text-align: right;\n",
       "    }\n",
       "</style>\n",
       "<table border=\"1\" class=\"dataframe\">\n",
       "  <thead>\n",
       "    <tr style=\"text-align: right;\">\n",
       "      <th></th>\n",
       "      <th>IBGE</th>\n",
       "      <th>Estado</th>\n",
       "      <th>UF</th>\n",
       "      <th>Região</th>\n",
       "      <th>Qtd Mun</th>\n",
       "      <th>Sintaxe</th>\n",
       "    </tr>\n",
       "  </thead>\n",
       "  <tbody>\n",
       "    <tr>\n",
       "      <th>0</th>\n",
       "      <td>11</td>\n",
       "      <td>Rondônia</td>\n",
       "      <td>RO</td>\n",
       "      <td>Região Norte</td>\n",
       "      <td>52</td>\n",
       "      <td>11'RO'</td>\n",
       "    </tr>\n",
       "    <tr>\n",
       "      <th>1</th>\n",
       "      <td>12</td>\n",
       "      <td>Acre</td>\n",
       "      <td>AC</td>\n",
       "      <td>Região Norte</td>\n",
       "      <td>22</td>\n",
       "      <td>12'AC'</td>\n",
       "    </tr>\n",
       "    <tr>\n",
       "      <th>2</th>\n",
       "      <td>13</td>\n",
       "      <td>Amazonas</td>\n",
       "      <td>AM</td>\n",
       "      <td>Região Norte</td>\n",
       "      <td>62</td>\n",
       "      <td>13'AM'</td>\n",
       "    </tr>\n",
       "    <tr>\n",
       "      <th>3</th>\n",
       "      <td>14</td>\n",
       "      <td>Roraima</td>\n",
       "      <td>RR</td>\n",
       "      <td>Região Norte</td>\n",
       "      <td>15</td>\n",
       "      <td>14'RR'</td>\n",
       "    </tr>\n",
       "    <tr>\n",
       "      <th>4</th>\n",
       "      <td>15</td>\n",
       "      <td>Pará</td>\n",
       "      <td>PA</td>\n",
       "      <td>Região Norte</td>\n",
       "      <td>144</td>\n",
       "      <td>15'PA'</td>\n",
       "    </tr>\n",
       "    <tr>\n",
       "      <th>...</th>\n",
       "      <td>...</td>\n",
       "      <td>...</td>\n",
       "      <td>...</td>\n",
       "      <td>...</td>\n",
       "      <td>...</td>\n",
       "      <td>...</td>\n",
       "    </tr>\n",
       "    <tr>\n",
       "      <th>22</th>\n",
       "      <td>53</td>\n",
       "      <td>Distrito Federal</td>\n",
       "      <td>DF</td>\n",
       "      <td>Região Centro-Oeste</td>\n",
       "      <td>1</td>\n",
       "      <td>53'DF'</td>\n",
       "    </tr>\n",
       "    <tr>\n",
       "      <th>0</th>\n",
       "      <td>31</td>\n",
       "      <td>Minas Gerais</td>\n",
       "      <td>MG</td>\n",
       "      <td>Região Sudeste</td>\n",
       "      <td>853</td>\n",
       "      <td>31'MG'</td>\n",
       "    </tr>\n",
       "    <tr>\n",
       "      <th>1</th>\n",
       "      <td>32</td>\n",
       "      <td>Espírito Santo</td>\n",
       "      <td>ES</td>\n",
       "      <td>Região Sudeste</td>\n",
       "      <td>78</td>\n",
       "      <td>32'ES'</td>\n",
       "    </tr>\n",
       "    <tr>\n",
       "      <th>2</th>\n",
       "      <td>33</td>\n",
       "      <td>Rio de Janeiro</td>\n",
       "      <td>RJ</td>\n",
       "      <td>Região Sudeste</td>\n",
       "      <td>92</td>\n",
       "      <td>33'RJ'</td>\n",
       "    </tr>\n",
       "    <tr>\n",
       "      <th>3</th>\n",
       "      <td>35</td>\n",
       "      <td>São Paulo</td>\n",
       "      <td>SP</td>\n",
       "      <td>Região Sudeste</td>\n",
       "      <td>645</td>\n",
       "      <td>35'SP'</td>\n",
       "    </tr>\n",
       "  </tbody>\n",
       "</table>\n",
       "<p>81 rows × 6 columns</p>\n",
       "</div>"
      ],
      "text/plain": [
       "    IBGE            Estado  UF               Região  Qtd Mun Sintaxe\n",
       "0     11          Rondônia  RO         Região Norte       52  11'RO'\n",
       "1     12              Acre  AC         Região Norte       22  12'AC'\n",
       "2     13          Amazonas  AM         Região Norte       62  13'AM'\n",
       "3     14           Roraima  RR         Região Norte       15  14'RR'\n",
       "4     15              Pará  PA         Região Norte      144  15'PA'\n",
       "..   ...               ...  ..                  ...      ...     ...\n",
       "22    53  Distrito Federal  DF  Região Centro-Oeste        1  53'DF'\n",
       "0     31      Minas Gerais  MG       Região Sudeste      853  31'MG'\n",
       "1     32    Espírito Santo  ES       Região Sudeste       78  32'ES'\n",
       "2     33    Rio de Janeiro  RJ       Região Sudeste       92  33'RJ'\n",
       "3     35         São Paulo  SP       Região Sudeste      645  35'SP'\n",
       "\n",
       "[81 rows x 6 columns]"
      ]
     },
     "execution_count": 32,
     "metadata": {},
     "output_type": "execute_result"
    }
   ],
   "source": [
    "df\n"
   ]
  }
 ],
 "metadata": {
  "kernelspec": {
   "display_name": "Python 3",
   "language": "python",
   "name": "python3"
  },
  "language_info": {
   "codemirror_mode": {
    "name": "ipython",
    "version": 3
   },
   "file_extension": ".py",
   "mimetype": "text/x-python",
   "name": "python",
   "nbconvert_exporter": "python",
   "pygments_lexer": "ipython3",
   "version": "3.8.8"
  }
 },
 "nbformat": 4,
 "nbformat_minor": 5
}
